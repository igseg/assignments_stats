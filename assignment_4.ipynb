{
 "cells": [
  {
   "cell_type": "code",
   "execution_count": 155,
   "id": "e962ebe9-6c77-4bbd-8ef8-211549192871",
   "metadata": {},
   "outputs": [],
   "source": [
    "import numpy as np\n",
    "import pandas as pd\n",
    "from scipy.special import polygamma\n",
    "import scipy.optimize\n",
    "\n",
    "def newton(f, J, x0, epsilon, max_iter):\n",
    "    xn = x0\n",
    "    for n in range(max_iter):\n",
    "        fxn = f(xn)\n",
    "        if np.abs(fxn).max() < epsilon:\n",
    "            print('Found solution after', n, 'iterations.')\n",
    "            return xn\n",
    "        Dfxn = J(xn)\n",
    "        try:\n",
    "            delta = np.linalg.solve(Dfxn, -fxn)\n",
    "            # delta = - fxn / Dfxn\n",
    "        except np.linalg.LinAlgError:\n",
    "            print('Jacobian is singular. No solution found.')\n",
    "            return None\n",
    "        xn = xn + delta\n",
    "        # print(fxn)\n",
    "        # print(Dfxn)\n",
    "        print(xn)\n",
    "        print(delta)\n",
    "        print('='*70)\n",
    "    print('Exceeded maximum iterations. No solution found.')\n",
    "    return None"
   ]
  },
  {
   "cell_type": "markdown",
   "id": "8ba47a8d-7610-4ec9-91fc-66693b4d019d",
   "metadata": {},
   "source": [
    "## Problem 2"
   ]
  },
  {
   "cell_type": "code",
   "execution_count": 189,
   "id": "86b5fa49-8f2c-4699-a669-3c582343642a",
   "metadata": {},
   "outputs": [
    {
     "name": "stdout",
     "output_type": "stream",
     "text": [
      "2.9028968810847524\n",
      "0.6234203535758195\n",
      "1.8097249999999998\n"
     ]
    }
   ],
   "source": [
    "data = '3.547 1.228 2.052 1.556 2.487 0.469 2.707 0.395 0.770 0.666 4.242 1.474 1.277 2.519 0.578 2.989 1.900 1.422 3.701 1.278 2.820 0.224 0.482 1.426 2.146 2.975 2.792 0.846 3.190 1.680 0.686 1.634 0.969 4.010 1.792 1.287 0.730 0.849 2.447 2.147'\n",
    "\n",
    "data = list(map(lambda x: eval(x), data.split(' ')))\n",
    "data = np.array(data)\n",
    "\n",
    "n = len(data)\n",
    "\n",
    "x_bar = data.mean()\n",
    "log_bar_x = np.log(data).mean()\n",
    "var = np.var(data)\n",
    "\n",
    "alpha_hat = x_bar**2 /var\n",
    "beta_hat  = var/x_bar\n",
    "\n",
    "print(alpha_hat)\n",
    "print(beta_hat)\n",
    "print(x_bar)\n",
    "\n",
    "psi = lambda x: polygamma(0,x)\n",
    "trigamma = lambda x: polygamma(1,x)"
   ]
  },
  {
   "cell_type": "code",
   "execution_count": 166,
   "id": "6e1060f9-5689-4549-9665-a6915f3dfc35",
   "metadata": {},
   "outputs": [
    {
     "name": "stdout",
     "output_type": "stream",
     "text": [
      "Iteration: x = [2.90289688 0.62342035], f(x) = [ 2.79815628e-02 -2.22044605e-16]\n",
      "Iteration: x = [2.90292353 0.62343144], f(x) = [ 2.79833216e-02 -4.87951626e-05]\n",
      "Iteration: x = [2.47891593 0.62342035], f(x) = [-0.00505533  0.26431835]\n",
      "Iteration: x = [2.54379442 0.62343144], f(x) = [0.00075228 0.22384359]\n",
      "Iteration: x = [2.53539052 0.62349273], f(x) = [1.76535516e-05 2.28927434e-01]\n",
      "Iteration: x = [2.53518857 0.62073252], f(x) = [-6.31416994e-08  2.36051001e-01]\n",
      "Iteration: x = [2.53518929 0.71219656], f(x) = [5.28066479e-12 4.17191214e-03]\n",
      "Iteration: x = [2.53518929 0.71384216], f(x) = [0.00000000e+00 8.08119638e-09]\n"
     ]
    }
   ],
   "source": [
    "f = lambda x: np.array([psi(x[0]) - log_bar_x + np.log(x_bar) - np.log(x[0]) , x_bar - x[0]*x[1]])\n",
    "Df = lambda x: np.array([[trigamma(x[0])*n, n/x[1]],\n",
    "                         [n/x[1], - n * x[0] / x[1]**2 + np.sum(data) * 2 / x[1]**3 ]])\n",
    "\n",
    "# Custom wrapper for the function to log iterations\n",
    "def newton_verbose(func, x0, fprime=None, tol=1.48e-8, maxiter=50):\n",
    "    def verbose_wrapper(x):\n",
    "        fx = func(x)\n",
    "        print(f\"Iteration: x = {x}, f(x) = {fx}\")\n",
    "        return fx\n",
    "\n",
    "    if fprime is not None:\n",
    "        def verbose_derivative(x):\n",
    "            fpx = fprime(x)\n",
    "            print(f\"    Derivative: f'(x) = {fpx}\")\n",
    "            return fpx\n",
    "        return scipy.optimize.newton(verbose_wrapper, x0, fprime=verbose_derivative, tol=tol, maxiter=maxiter)\n",
    "    else:\n",
    "        return scipy.optimize.newton(verbose_wrapper, x0, tol=tol, maxiter=maxiter)\n",
    "        \n",
    "x0 = [alpha_hat, beta_hat]\n",
    "\n",
    "# scipy.optimize.newton(f, x0=x0, maxiter=50)\n",
    "x = newton_verbose(f, x0)"
   ]
  },
  {
   "cell_type": "code",
   "execution_count": 197,
   "id": "f7e3e9a1-e857-4474-8579-d50496a7d92a",
   "metadata": {},
   "outputs": [
    {
     "name": "stdout",
     "output_type": "stream",
     "text": [
      "0.286142646927411\n",
      "0.5338078821623577\n",
      "0.16618338837738744\n"
     ]
    }
   ],
   "source": [
    "beta_se_cond = 1/np.sqrt(n/x_bar**2)\n",
    "\n",
    "I11 = n * trigamma(x[0])\n",
    "I22 = n * x[0]/x[1]**2\n",
    "I21 = n / x[1]\n",
    "I = np.array([[I11, I21],[I21, I22]])\n",
    "sigma = np.linalg.inv(I)\n",
    "print(beta_se_cond)\n",
    "print(np.sqrt(sigma[0,0]))\n",
    "print(np.sqrt(sigma[1,1]))"
   ]
  },
  {
   "cell_type": "code",
   "execution_count": 176,
   "id": "e2acdbe3-9c64-4343-bdec-ebb2496cf354",
   "metadata": {},
   "outputs": [],
   "source": [
    "from scipy.special import gammaln  # Logarithm of the Gamma function\n",
    "\n",
    "def log_likelihood_gamma(alpha, beta, data):\n",
    "    \"\"\"\n",
    "    Compute the log-likelihood of the Gamma distribution.\n",
    "    \n",
    "    Parameters:\n",
    "        alpha (float): Shape parameter (α > 0).\n",
    "        beta (float): Scale parameter (β > 0).\n",
    "        data (array-like): Observed data (positive values).\n",
    "        \n",
    "    Returns:\n",
    "        float: Log-likelihood value.\n",
    "    \"\"\"\n",
    "    if alpha <= 0 or beta <= 0:\n",
    "        raise ValueError(\"Alpha and Beta must be greater than 0.\")\n",
    "    if np.any(data <= 0):\n",
    "        raise ValueError(\"All data points must be positive.\")\n",
    "\n",
    "    n = len(data)\n",
    "    term1 = -n * (alpha * np.log(beta) + gammaln(alpha))\n",
    "    term2 = (alpha - 1) * np.sum(np.log(data))\n",
    "    term3 = -np.sum(data) / beta\n",
    "\n",
    "    return term1 + term2 + term3"
   ]
  },
  {
   "cell_type": "code",
   "execution_count": 179,
   "id": "3e333525-1185-42cf-8f33-fb005419e186",
   "metadata": {},
   "outputs": [],
   "source": [
    "l1 = log_likelihood_gamma(x[0], x[1], data)"
   ]
  },
  {
   "cell_type": "code",
   "execution_count": 180,
   "id": "39ae3bae-a36f-4973-9865-b3e864a45232",
   "metadata": {},
   "outputs": [],
   "source": [
    "l0 = log_likelihood_gamma(1, x_bar, data)"
   ]
  },
  {
   "cell_type": "code",
   "execution_count": 183,
   "id": "4f8cd8e7-d9e4-4a3a-98f3-0529bd88e365",
   "metadata": {},
   "outputs": [],
   "source": [
    "lamb = 2 * (l1-l0)"
   ]
  },
  {
   "cell_type": "code",
   "execution_count": 184,
   "id": "1ed53002-a8a1-4023-b12f-a8154c396791",
   "metadata": {},
   "outputs": [
    {
     "data": {
      "text/plain": [
       "np.float64(15.287789872620692)"
      ]
     },
     "execution_count": 184,
     "metadata": {},
     "output_type": "execute_result"
    }
   ],
   "source": [
    "lamb"
   ]
  },
  {
   "cell_type": "markdown",
   "id": "56ce78de-dac3-462c-b339-6da56ee53ca5",
   "metadata": {},
   "source": [
    "## Problem 3"
   ]
  },
  {
   "cell_type": "code",
   "execution_count": 185,
   "id": "fe786134-700c-4b47-bb76-d9a97cb6f5ba",
   "metadata": {},
   "outputs": [
    {
     "data": {
      "text/plain": [
       "0.9974386212234697"
      ]
     },
     "execution_count": 185,
     "metadata": {},
     "output_type": "execute_result"
    }
   ],
   "source": [
    "0.95**0.05"
   ]
  },
  {
   "cell_type": "code",
   "execution_count": 198,
   "id": "999df0e1-fe08-40de-a3c9-1d2b52bd73ef",
   "metadata": {},
   "outputs": [
    {
     "data": {
      "image/png": "[encoded data removed]",
      "text/plain": [
       "<Figure size 800x500 with 1 Axes>"
      ]
     },
     "metadata": {},
     "output_type": "display_data"
    }
   ],
   "source": [
    "import numpy as np\n",
    "import matplotlib.pyplot as plt\n",
    "\n",
    "# Parameters\n",
    "n = 20  # Sample size\n",
    "Tn_range = np.linspace(0.9, 1.1, 200)  # Range of Tn values\n",
    "\n",
    "p_values = 1 - Tn_range**n\n",
    "\n",
    "# Plot\n",
    "plt.figure(figsize=(8, 5))\n",
    "plt.plot(Tn_range, p_values, label=\"P-value\", color='blue')\n",
    "plt.axhline(y=0.05, color='red', linestyle='--', label=\"Significance level (α = 0.05)\")\n",
    "plt.title(\"P-value as a function of $T_n$ for $n=20$\")\n",
    "plt.xlabel(\"$T_n$\")\n",
    "plt.ylabel(\"P-value\")\n",
    "plt.legend()\n",
    "plt.grid(alpha=0.5)\n",
    "plt.tight_layout()\n",
    "plt.savefig('plot_4_3_c.pdf')\n",
    "plt.show()"
   ]
  },
  {
   "cell_type": "code",
   "execution_count": null,
   "id": "f1e3ddf9-ed2f-49bf-929c-b27defd43e21",
   "metadata": {},
   "outputs": [],
   "source": []
  }
 ],
 "metadata": {
  "kernelspec": {
   "display_name": "Python 3 (ipykernel)",
   "language": "python",
   "name": "python3"
  },
  "language_info": {
   "codemirror_mode": {
    "name": "ipython",
    "version": 3
   },
   "file_extension": ".py",
   "mimetype": "text/x-python",
   "name": "python",
   "nbconvert_exporter": "python",
   "pygments_lexer": "ipython3",
   "version": "3.10.12"
  }
 },
 "nbformat": 4,
 "nbformat_minor": 5
}
